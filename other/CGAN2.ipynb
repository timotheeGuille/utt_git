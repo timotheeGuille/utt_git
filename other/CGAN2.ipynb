{
 "cells": [
  {
   "cell_type": "code",
   "execution_count": null,
   "source": [
    "\n",
    "# supress warnings\n",
    "import warnings \n",
    "warnings.filterwarnings('ignore')"
   ],
   "outputs": [],
   "metadata": {}
  },
  {
   "cell_type": "code",
   "execution_count": null,
   "source": [
    "# import dataset \n",
    "from keras.datasets import mnist\n",
    "\n",
    "(X_train,y_train),(X_test,y_test) = mnist.load_data()\n",
    "X_train.shape"
   ],
   "outputs": [],
   "metadata": {}
  },
  {
   "cell_type": "code",
   "execution_count": null,
   "source": [
    "\n",
    "from tensorflow.python.client import device_lib\n",
    "print(device_lib.list_local_devices())"
   ],
   "outputs": [],
   "metadata": {}
  },
  {
   "cell_type": "code",
   "execution_count": null,
   "source": [
    "img_width, img_height =28,28\n",
    "img_channel = 1\n",
    "img_shape = (img_width, img_height, img_channel)\n",
    "num_classes = 10\n",
    "z_dim = 100"
   ],
   "outputs": [],
   "metadata": {}
  },
  {
   "cell_type": "code",
   "execution_count": null,
   "source": [
    "from keras.layers import UpSampling2D, Reshape, Activation, Conv2D, BatchNormalization, LeakyReLU, Input, Flatten, multiply\n",
    "from keras.layers import Dense, Embedding\n",
    "from keras.models import Sequential, Model\n",
    "\n",
    "def build_generator():\n",
    "    model = Sequential()\n",
    "    model.add(Dense(128*7*7, activation = 'relu', input_shape = (z_dim, )))\n",
    "    model.add(Reshape((7,7,128)))\n",
    "    model.add(UpSampling2D())\n",
    "    model.add(Conv2D(128, kernel_size = 3, strides = 2, padding = 'same'))\n",
    "    model.add(BatchNormalization())\n",
    "    model.add(LeakyReLU(alpha = 0.02))\n",
    "    model.add(UpSampling2D())\n",
    "    model.add(Conv2D(64, kernel_size = 3, strides = 1, padding = 'same'))\n",
    "    model.add(BatchNormalization())\n",
    "    model.add(LeakyReLU(alpha = 0.02))\n",
    "    model.add(UpSampling2D())\n",
    "    model.add(Conv2D(1, kernel_size = 3 , strides = 1, padding='same'))\n",
    "    model.add(Activation('tanh'))\n",
    "    \n",
    "    z = Input(shape= (z_dim,))\n",
    "    label = Input(shape=(1,), dtype = 'int32')\n",
    "    \n",
    "    label_embedding = Embedding(num_classes, z_dim, input_length = 1)(label)\n",
    "    label_embedding = Flatten()(label_embedding)\n",
    "    joined = multiply([z, label_embedding])\n",
    "    \n",
    "    img = model(joined)\n",
    "    return Model([z, label], img)\n",
    "\n",
    "generator = build_generator()\n",
    "generator.summary()"
   ],
   "outputs": [],
   "metadata": {}
  },
  {
   "cell_type": "code",
   "execution_count": null,
   "source": [
    "from keras.layers import Dropout, Concatenate\n",
    "import numpy as np\n",
    "\n",
    "def build_discriminator():\n",
    "    model = Sequential()\n",
    "    model.add(Conv2D(32, kernel_size = 3, strides = 2, input_shape = (28,28,2), padding = 'same'))\n",
    "    model.add(BatchNormalization())\n",
    "    model.add(LeakyReLU(alpha = 0.02))\n",
    "    model.add(Conv2D(64, kernel_size = 3, strides = 2, padding = 'same'))\n",
    "    model.add(BatchNormalization())\n",
    "    model.add(LeakyReLU(alpha = 0.02))\n",
    "    model.add(Conv2D(128, kernel_size = 3, strides = 2, padding = 'same'))\n",
    "    model.add(BatchNormalization())\n",
    "    model.add(LeakyReLU(alpha = 0.02))\n",
    "    model.add(Dropout(0.25))\n",
    "    model.add(Flatten())\n",
    "    model.add(Dense(1, activation = 'sigmoid'))\n",
    "    \n",
    "    img = Input(shape= (img_shape))\n",
    "    label = Input(shape= (1,), dtype = 'int32')\n",
    "    \n",
    "    label_embedding = Embedding(input_dim = num_classes, output_dim = np.prod(img_shape), input_length = 1)(label)\n",
    "    label_embedding = Flatten()(label_embedding)\n",
    "    label_embedding = Reshape(img_shape)(label_embedding)\n",
    "    \n",
    "    concat = Concatenate(axis = -1)([img, label_embedding])\n",
    "    prediction = model(concat)\n",
    "    return Model([img, label], prediction)\n",
    "\n",
    "discriminator = build_discriminator()\n",
    "discriminator.summary()"
   ],
   "outputs": [],
   "metadata": {}
  },
  {
   "cell_type": "code",
   "execution_count": null,
   "source": [
    "from tensorflow.keras.optimizers import Adam\n",
    "\n",
    "discriminator.compile(loss = 'binary_crossentropy', optimizer = Adam(0.0002, 0.5), metrics = ['accuracy'])\n",
    "\n",
    "z = Input(shape=(z_dim,))\n",
    "label = Input(shape= (1,))\n",
    "img = generator([z,label])\n",
    "\n",
    "discriminator.trainable = False\n",
    "prediction = discriminator([img, label])\n",
    "\n",
    "cgan = Model([z, label], prediction)\n",
    "cgan.compile(loss= 'binary_crossentropy', optimizer = Adam(0.0002, 0.5))"
   ],
   "outputs": [],
   "metadata": {}
  },
  {
   "cell_type": "code",
   "execution_count": null,
   "source": [
    "def train(epochs, batch_size, save_interval):\n",
    "    (X_train, y_train), (_, _) = mnist.load_data()\n",
    "    \n",
    "    X_train = (X_train - 127.5) / 127.5\n",
    "    X_train = np.expand_dims(X_train, axis=3)\n",
    "    \n",
    "    real = np.ones(shape=(batch_size, 1))\n",
    "    fake = np.zeros(shape=(batch_size, 1))\n",
    "    \n",
    "    for iteration in range(epochs):\n",
    "        \n",
    "        idx = np.random.randint(0, X_train.shape[0], batch_size)\n",
    "        imgs, labels = X_train[idx], y_train[idx]\n",
    "        \n",
    "        z = np.random.normal(0, 1, size=(batch_size, z_dim))\n",
    "        gen_imgs = generator.predict([z, labels])\n",
    "        \n",
    "        d_loss_real = discriminator.train_on_batch([imgs, labels], real)\n",
    "        d_loss_fake = discriminator.train_on_batch([gen_imgs, labels], fake)\n",
    "        d_loss = 0.5 * np.add(d_loss_real, d_loss_fake)\n",
    "        \n",
    "        z = np.random.normal(0, 1, size=(batch_size, z_dim))\n",
    "        labels = np.random.randint(0, num_classes, batch_size).reshape(-1, 1)\n",
    "        \n",
    "        g_loss = cgan.train_on_batch([z, labels], real)\n",
    "        \n",
    "        if iteration % save_interval == 0:\n",
    "            print('{} [D loss: {}, accuracy: {:.2f}] [G loss: {}]'.format(iteration, d_loss[0], 100 * d_loss[1], g_loss))\n",
    "            save_image(iteration)"
   ],
   "outputs": [],
   "metadata": {}
  },
  {
   "cell_type": "code",
   "execution_count": null,
   "source": [
    "\n",
    "import matplotlib.pyplot as plt\n",
    "def save_image(epoch):\n",
    "    r, c = 2,5\n",
    "    z = np.random.normal(0,1,(r*c, z_dim))\n",
    "    labels = np.arange(0,10).reshape(-1,1)\n",
    "    gen_image = generator.predict([z,labels])\n",
    "    gen_image = 0.5 * gen_image + 0.5\n",
    "    \n",
    "    fig, axes = plt.subplots(r,c, figsize = (10,10))\n",
    "    count = 0\n",
    "    for i in range(r):\n",
    "        for j in range(c):\n",
    "            axes[i,j].imshow(gen_image[count,:,:,0],cmap = 'gray')\n",
    "            axes[i,j].axis('off')\n",
    "            axes[i,j].set_title(\"Digit: %d\" % labels[count])\n",
    "            count+=1\n",
    "    plt.savefig('images/cgan_%d.jpg' % epoch)\n",
    "    plt.close()"
   ],
   "outputs": [],
   "metadata": {}
  },
  {
   "cell_type": "code",
   "execution_count": null,
   "source": [
    "\n",
    "# train network\n",
    "train(500, 128, 100)"
   ],
   "outputs": [],
   "metadata": {}
  },
  {
   "cell_type": "code",
   "execution_count": null,
   "source": [],
   "outputs": [],
   "metadata": {}
  }
 ],
 "metadata": {
  "orig_nbformat": 4,
  "language_info": {
   "name": "python",
   "version": "3.9.6",
   "mimetype": "text/x-python",
   "codemirror_mode": {
    "name": "ipython",
    "version": 3
   },
   "pygments_lexer": "ipython3",
   "nbconvert_exporter": "python",
   "file_extension": ".py"
  },
  "kernelspec": {
   "name": "python3",
   "display_name": "Python 3.9.6 64-bit ('tf-gpu2': conda)"
  },
  "interpreter": {
   "hash": "212413fcd4c7895e2eee94d312c00991ecc4af7c4d04e0233601845c8d34540c"
  }
 },
 "nbformat": 4,
 "nbformat_minor": 2
}